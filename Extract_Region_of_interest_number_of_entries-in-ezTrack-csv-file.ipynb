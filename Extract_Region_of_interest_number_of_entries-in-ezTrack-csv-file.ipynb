{
 "cells": [
  {
   "cell_type": "code",
   "execution_count": 5,
   "id": "1378c19c",
   "metadata": {},
   "outputs": [],
   "source": [
    "import pandas as pd\n",
    "import numpy as np\n",
    "#################################################################################################\n",
    "#if we supose we have 3 main sections in ROI(region of interest) corner, border and center, we would able to provide \n",
    "#the out file of eztracker in this code as an \"input data\" to extract entries into the those targeted regions. \n",
    "#so it will be as a follow:\n",
    "\n",
    "df = pd.read_csv(\"LocationTracking_Clip_LocationOutput.csv\")\n",
    "ROI=['c1', 'c2', 'c3', 'c4', 'b1', 'b2', 'b3', 'b4', 'center', 'ROI_transition']\n",
    "\n",
    "def edge_detector(inp):\n",
    "    return np.arange(len(df)-1)[~inp[:-1] & inp[1:]]\n",
    "###########################################################################\n",
    "#through this part it regognize true-false change & results shouden't divided in 2 (which previously I was wrongly thinking it should be!)\n",
    "#because I was thinking if animal enter a region  it should left there and I was just baffled with entries and exits (explaining how I was wrong). \n",
    "R = []\n",
    "for i in range(len(ROI)):\n",
    "    R.append(edge_detector(np.array(df[ROI[i]])))\n",
    "\n",
    "ent = []\n",
    "for j in range(len(R)):\n",
    "    ent.append(len(R[j]))\n",
    "    \n",
    "###########################################\n",
    "result_of_ROI_entries = pd.DataFrame(ent, index=ROI, columns=['entries'])\n",
    "lis = pd.DataFrame(R, index=ROI)\n",
    "writer = pd.ExcelWriter('result_of_ROI_entries.xlsx', engine='xlsxwriter')\n",
    "result_of_ROI_entries.to_excel(writer, sheet_name='entries')\n",
    "lis.to_excel(writer, sheet_name='Edge')\n",
    "writer.save()"
   ]
  },
  {
   "cell_type": "code",
   "execution_count": null,
   "id": "c1dc493e",
   "metadata": {},
   "outputs": [],
   "source": []
  }
 ],
 "metadata": {
  "kernelspec": {
   "display_name": "Python 3 (ipykernel)",
   "language": "python",
   "name": "python3"
  },
  "language_info": {
   "codemirror_mode": {
    "name": "ipython",
    "version": 3
   },
   "file_extension": ".py",
   "mimetype": "text/x-python",
   "name": "python",
   "nbconvert_exporter": "python",
   "pygments_lexer": "ipython3",
   "version": "3.9.12"
  }
 },
 "nbformat": 4,
 "nbformat_minor": 5
}
